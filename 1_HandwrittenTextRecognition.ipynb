{
 "cells": [
  {
   "cell_type": "code",
   "execution_count": null,
   "metadata": {},
   "outputs": [],
   "source": [
    "import matplotlib.pyplot as plt\n",
    "import matplotlib.patches as patches\n",
    "import numpy as np\n",
    "import random\n",
    "import mxnet as mx\n",
    "from mxnet import gluon"
   ]
  },
  {
   "cell_type": "code",
   "execution_count": null,
   "metadata": {},
   "outputs": [],
   "source": [
    "from utilities.iam_dataset import IAMDataset, resize_image, crop_image, crop_handwriting_page\n",
    "from utilities.expand_bounding_box import expand_bounding_box"
   ]
  },
  {
   "cell_type": "code",
   "execution_count": null,
   "metadata": {},
   "outputs": [],
   "source": [
    "test_ds = IAMDataset(\"form_original\", train=False) #stores as arrays along with output text"
   ]
  },
  {
   "cell_type": "code",
   "execution_count": null,
   "metadata": {},
   "outputs": [],
   "source": [
    "#Sets 4 images\n",
    "figs_to_plot = 4\n",
    "images = []\n",
    "text = []\n",
    "\n",
    "for i in range(0, figs_to_plot):\n",
    "    n = int(random.random()*len(test_ds))\n",
    "    image, _ = test_ds[n]\n",
    "    images.append(image)\n",
    "    text.append(_)"
   ]
  },
  {
   "cell_type": "code",
   "execution_count": null,
   "metadata": {},
   "outputs": [],
   "source": [
    "print(image,_)"
   ]
  },
  {
   "cell_type": "code",
   "execution_count": null,
   "metadata": {},
   "outputs": [],
   "source": [
    "#shows 4 images\n",
    "fig, axs = plt.subplots(int(len(images)/2), 2, figsize=(15, 10 * len(images)/2))\n",
    "for i, image in enumerate(images):\n",
    "    y, x = int(i/2), int(i%2)\n",
    "    axs[y, x].imshow(image, cmap='Greys_r')\n",
    "    axs[y, x].axis('off')"
   ]
  },
  {
   "cell_type": "code",
   "execution_count": null,
   "metadata": {},
   "outputs": [],
   "source": [
    "print(_)"
   ]
  },
  {
   "cell_type": "code",
   "execution_count": null,
   "metadata": {},
   "outputs": [],
   "source": [
    "print(text)"
   ]
  },
  {
   "cell_type": "code",
   "execution_count": null,
   "metadata": {},
   "outputs": [],
   "source": [
    "#paragraph segmentation"
   ]
  },
  {
   "cell_type": "code",
   "execution_count": null,
   "metadata": {},
   "outputs": [],
   "source": [
    "sym = mx.sym.load_json(open('model_export/cnn_mse-symbol.json', 'r').read())\n",
    "paragraph_segmentation_net = gluon.nn.SymbolBlock(outputs=sym, inputs=mx.sym.var('data'))\n",
    "paragraph_segmentation_net.load_parameters('model_export/cnn_mse-0099.params', ctx=ctx)"
   ]
  },
  {
   "cell_type": "code",
   "execution_count": null,
   "metadata": {},
   "outputs": [],
   "source": [
    "def paragraph_segmentation_transform(image, image_size):\n",
    "    '''\n",
    "    Function used for inference to resize the image for paragraph segmentation\n",
    "    '''\n",
    "    resized_image, _ = resize_image(image, image_size)\n",
    "    \n",
    "    resized_image = mx.nd.array(resized_image).expand_dims(axis=2)\n",
    "    resized_image = mx.image.resize_short(resized_image, int(800/3))\n",
    "    resized_image = resized_image.transpose([2, 0, 1])/255.\n",
    "    resized_image = resized_image.expand_dims(axis=0)\n",
    "    return resized_image"
   ]
  },
  {
   "cell_type": "code",
   "execution_count": null,
   "metadata": {},
   "outputs": [],
   "source": [
    "form_size = (1120, 800)\n",
    "\n",
    "predicted_bbs = []\n",
    "\n",
    "fig, axs = plt.subplots(int(len(images)/2), 2, figsize=(15, 9 * len(images)/2))\n",
    "for i, image in enumerate(images):\n",
    "    s_y, s_x = int(i/2), int(i%2)\n",
    "    resized_image = paragraph_segmentation_transform(image, form_size)\n",
    "    bb_predicted = paragraph_segmentation_net(resized_image.as_in_context(ctx))\n",
    "    bb_predicted = bb_predicted[0].asnumpy()\n",
    "    bb_predicted = expand_bounding_box(bb_predicted, expand_bb_scale_x=0.03,\n",
    "                                           expand_bb_scale_y=0.03)\n",
    "    predicted_bbs.append(bb_predicted)\n",
    "    \n",
    "    axs[s_y, s_x].imshow(image, cmap='Greys_r')\n",
    "    axs[s_y, s_x].set_title(\"{}\".format(i))\n",
    "\n",
    "    (x, y, w, h) = bb_predicted\n",
    "    image_h, image_w = image.shape[-2:]\n",
    "    (x, y, w, h) = (x * image_w, y * image_h, w * image_w, h * image_h)\n",
    "    rect = patches.Rectangle((x, y), w, h, fill=False, color=\"r\", ls=\"--\")\n",
    "    axs[s_y, s_x].add_patch(rect)\n",
    "    axs[s_y, s_x].axis('off')"
   ]
  },
  {
   "cell_type": "code",
   "execution_count": null,
   "metadata": {},
   "outputs": [],
   "source": [
    "#crop"
   ]
  },
  {
   "cell_type": "code",
   "execution_count": null,
   "metadata": {},
   "outputs": [],
   "source": [
    "segmented_paragraph_size = (700, 700)\n",
    "fig, axs = plt.subplots(int(len(images)/2), 2, figsize=(15, 9 * len(images)/2))\n",
    "\n",
    "paragraph_segmented_images = []\n",
    "\n",
    "for i, image in enumerate(images):\n",
    "    s_y, s_x = int(i/2), int(i%2)\n",
    "\n",
    "    bb = predicted_bbs[i]\n",
    "    image = crop_handwriting_page(image, bb, image_size=segmented_paragraph_size)\n",
    "    paragraph_segmented_images.append(image)\n",
    "    \n",
    "    axs[s_y, s_x].imshow(image, cmap='Greys_r')\n",
    "    axs[s_y, s_x].axis('off')"
   ]
  }
 ],
 "metadata": {
  "kernelspec": {
   "display_name": "Python 3",
   "language": "python",
   "name": "python3"
  },
  "language_info": {
   "codemirror_mode": {
    "name": "ipython",
    "version": 3
   },
   "file_extension": ".py",
   "mimetype": "text/x-python",
   "name": "python",
   "nbconvert_exporter": "python",
   "pygments_lexer": "ipython3",
   "version": "3.7.1"
  }
 },
 "nbformat": 4,
 "nbformat_minor": 2
}
